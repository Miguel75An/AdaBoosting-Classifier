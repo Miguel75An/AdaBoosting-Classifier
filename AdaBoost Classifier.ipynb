{
 "cells": [
  {
   "cell_type": "markdown",
   "metadata": {},
   "source": [
    "# AdaBoost Classifier"
   ]
  },
  {
   "cell_type": "markdown",
   "metadata": {},
   "source": [
    "<div class=\"alert alert-block alert-info\">\n",
    "<ul><strong>\n",
    "<li>MIGUEL DOMINGUEZ</li>\n",
    "<li>CSC 59929</li>\n",
    "<li>Machine Learning</li>\n",
    "<li>Prof. Erik K. Grimmelmann </li>\n",
    "<li>Date: 10/20/17 </li>\n",
    "<li>Homework Week 8 </li>\n",
    "</strong>\n",
    "</ul>\n",
    "</div>"
   ]
  },
  {
   "cell_type": "markdown",
   "metadata": {},
   "source": [
    "<div class=\"alert alert-block alert-warning\">\n",
    "<h2>Keywords</h2>\n",
    "<ul>\n",
    "<li><b>weak learner:</b> a classifier whose results are only slighly correlated with the true classification</li>\n",
    "<li><b>ensemble method:</b> technique used to combine classifiers into a meta-classifier which is better than each classifier alone</li>\n",
    "<li><b>boosting:</b> an ensemble method used to reduce variance and bias in supervised learning</li>\n",
    "</ul>\n",
    "</div>"
   ]
  },
  {
   "cell_type": "code",
   "execution_count": 38,
   "metadata": {
    "collapsed": true
   },
   "outputs": [],
   "source": [
    "import numpy as np\n",
    "import pandas as pd\n",
    "import matplotlib.pyplot as plt \n",
    "from matplotlib.ticker import MaxNLocator \n",
    "from matplotlib.colors import ListedColormap\n",
    "from IPython.display import Image\n",
    "%matplotlib inline\n",
    "import graphviz \n",
    "from graphviz import Digraph\n",
    "from sklearn.model_selection import train_test_split\n",
    "from sklearn.tree import DecisionTreeClassifier\n",
    "from sklearn.tree import export_graphviz\n",
    "from sklearn.ensemble import AdaBoostClassifier\n",
    "from sklearn.metrics import accuracy_score\n",
    "from astropy.table import Table, Column"
   ]
  },
  {
   "cell_type": "markdown",
   "metadata": {},
   "source": [
    "## Discussion and Results:"
   ]
  },
  {
   "cell_type": "markdown",
   "metadata": {},
   "source": [
    "<div class=\"alert alert-block alert-success\"> In this assigment, we learn about ensemble methods and how to apply them. We focus on boosting which is an ensemble method that reduces variance and bias in supervised learning. The idea of ensemble methods is to use certain number of classifiers to combine them all into an ultimate meta-classifer which has overcome the weaknesses of each individual classifier. In other words, it is a generalized classifier. <br> <br> We use the Iris Dataset to experiment with. All features are standardized for our results. As well, we split the data into training and testing data. <br> <br>We will compare how a single Decision Tree and the AdaBoost Classifier work. We will use trees of depth from 1 to 7. For each model we collect the error and accuracy values. Finally we plot them.<br> <br>The AdaBoost combines 500 Decision Trees for each depth. Each tree will fail to classify some feature values into the correct classes. But the algorithm makes the incorrectly classified points heaving in terms of weights, and the ones that are correct are lighter. THINK OF EACH DESION TREE AS A WEAK LEARNER. The AdaBoost uses the weaknesses of each weak learned to further improve a vast model capable of classifying data into the correct class.<br> <br><strong> Our results show that our a single Decison Tree of Depth 1, we obtain an accuracy of 69%. But for 500 Decison Trees combined in the AdaBoost Classifier, each tree contributing to a better classification, depth 1, we obtain an accuracy of 96%.</strong> The same occurs for depth 2 for both the single Decision Tree and the AdaBoost Classifier. However, at depth 3, the single Decision Tree has learned a lot more and is decent enough to handle the data, using the AdaBoost Classifier gives us the same results. This builds an important point. <strong>The AdaBoost Classifier is useful only when we have lots of weak learners. If given strong, accurale learners, we would waste our time combining many learners that are good enough by themselves.</strong> <br> <br> In the real world, perhaps working with big data and data storehouses, using the AdaBoost Classifier might be very expensive in terms of computational cost. This indicates that we should always conside efficient algorithms that do the same but are less expensive. But this also open our eyes to always look for things that can learn from others.</div>"
   ]
  },
  {
   "cell_type": "code",
   "execution_count": 39,
   "metadata": {},
   "outputs": [
    {
     "data": {
      "text/html": [
       "<div>\n",
       "<style>\n",
       "    .dataframe thead tr:only-child th {\n",
       "        text-align: right;\n",
       "    }\n",
       "\n",
       "    .dataframe thead th {\n",
       "        text-align: left;\n",
       "    }\n",
       "\n",
       "    .dataframe tbody tr th {\n",
       "        vertical-align: top;\n",
       "    }\n",
       "</style>\n",
       "<table border=\"1\" class=\"dataframe\">\n",
       "  <thead>\n",
       "    <tr style=\"text-align: right;\">\n",
       "      <th></th>\n",
       "      <th>Sepal Length [0]</th>\n",
       "      <th>Sepal Width [1]</th>\n",
       "      <th>Petal Length [2]</th>\n",
       "      <th>Petal Width [3]</th>\n",
       "      <th>Class</th>\n",
       "    </tr>\n",
       "  </thead>\n",
       "  <tbody>\n",
       "    <tr>\n",
       "      <th>0</th>\n",
       "      <td>5.1</td>\n",
       "      <td>3.5</td>\n",
       "      <td>1.4</td>\n",
       "      <td>0.2</td>\n",
       "      <td>Iris-setosa</td>\n",
       "    </tr>\n",
       "    <tr>\n",
       "      <th>1</th>\n",
       "      <td>4.9</td>\n",
       "      <td>3.0</td>\n",
       "      <td>1.4</td>\n",
       "      <td>0.2</td>\n",
       "      <td>Iris-setosa</td>\n",
       "    </tr>\n",
       "    <tr>\n",
       "      <th>2</th>\n",
       "      <td>4.7</td>\n",
       "      <td>3.2</td>\n",
       "      <td>1.3</td>\n",
       "      <td>0.2</td>\n",
       "      <td>Iris-setosa</td>\n",
       "    </tr>\n",
       "    <tr>\n",
       "      <th>3</th>\n",
       "      <td>4.6</td>\n",
       "      <td>3.1</td>\n",
       "      <td>1.5</td>\n",
       "      <td>0.2</td>\n",
       "      <td>Iris-setosa</td>\n",
       "    </tr>\n",
       "    <tr>\n",
       "      <th>4</th>\n",
       "      <td>5.0</td>\n",
       "      <td>3.6</td>\n",
       "      <td>1.4</td>\n",
       "      <td>0.2</td>\n",
       "      <td>Iris-setosa</td>\n",
       "    </tr>\n",
       "  </tbody>\n",
       "</table>\n",
       "</div>"
      ],
      "text/plain": [
       "   Sepal Length [0]  Sepal Width [1]  Petal Length [2]  Petal Width [3]  \\\n",
       "0               5.1              3.5               1.4              0.2   \n",
       "1               4.9              3.0               1.4              0.2   \n",
       "2               4.7              3.2               1.3              0.2   \n",
       "3               4.6              3.1               1.5              0.2   \n",
       "4               5.0              3.6               1.4              0.2   \n",
       "\n",
       "         Class  \n",
       "0  Iris-setosa  \n",
       "1  Iris-setosa  \n",
       "2  Iris-setosa  \n",
       "3  Iris-setosa  \n",
       "4  Iris-setosa  "
      ]
     },
     "execution_count": 39,
     "metadata": {},
     "output_type": "execute_result"
    }
   ],
   "source": [
    "#Obtain Iris Dataset and save it to a Pandas Frame\n",
    "iris = pd.read_csv('https://archive.ics.uci.edu/ml/machine-learning-databases/iris/iris.data', header = None)\n",
    "#Rename columns\n",
    "new_columns = ['Sepal Length [0]', 'Sepal Width [1]', 'Petal Length [2]', 'Petal Width [3]','Class']\n",
    "iris.columns = new_columns\n",
    "iris.head()"
   ]
  },
  {
   "cell_type": "code",
   "execution_count": 40,
   "metadata": {
    "collapsed": true
   },
   "outputs": [],
   "source": [
    "#We use all 3 flower clases (SVV means Setosa & Versicolor & Virginica)\n",
    "SVV = iris.iloc[:,:].values\n",
    "\n",
    "#Standardize the features\n",
    "for i in range(0,4):\n",
    "    SVV[:,i] = (SVV[:,i] - SVV[:,i].mean()) / SVV[:,i].std()   \n",
    "\n",
    "#Samples    \n",
    "X = SVV[:,0:4]    \n",
    "\n",
    "#Get class vector\n",
    "y = SVV[:,4]\n",
    "for i in range(0,len(y)):\n",
    "    if y[i] == 'Iris-setosa':\n",
    "        y[i] = 0\n",
    "    elif y[i] == 'Iris-versicolor':\n",
    "         y[i] = 1\n",
    "    else:\n",
    "         y[i] = 2\n",
    "#Convert Y to list\n",
    "y = y.tolist()"
   ]
  },
  {
   "cell_type": "code",
   "execution_count": 41,
   "metadata": {
    "collapsed": true
   },
   "outputs": [],
   "source": [
    "# Split data into 50% training and 50% test data\n",
    "from sklearn.model_selection import train_test_split\n",
    "\n",
    "X_train, X_test, y_train, y_test = train_test_split(\n",
    "         X, y, test_size=0.30, random_state=0)"
   ]
  },
  {
   "cell_type": "code",
   "execution_count": 42,
   "metadata": {},
   "outputs": [],
   "source": [
    "# Fit for various depth trees\n",
    "MaxDepth = 7\n",
    "Depth = np.zeros(MaxDepth)\n",
    "ErrorsTree = np.zeros((MaxDepth,2))\n",
    "ErrorsAda  = np.zeros((MaxDepth,2))\n",
    "\n",
    "AccuracyTree = np.zeros((MaxDepth,2))\n",
    "AccuracyAda  = np.zeros((MaxDepth,2))\n",
    "\n",
    "for i in range(0,MaxDepth):\n",
    "    Depth[i] = i + 1\n",
    "    \n",
    "    #Create decision tree and adaboost models\n",
    "    tree = DecisionTreeClassifier(criterion='entropy', max_depth=i+1)\n",
    "    ada = AdaBoostClassifier(base_estimator=tree, n_estimators=500, learning_rate=0.1, random_state=0)\n",
    "    \n",
    "    tree = tree.fit(X_train, y_train)\n",
    "    \n",
    "    #Error and Accuracy for Decision Tree\n",
    "    ErrorsTree[i,0] = 1 - tree.score(X_train,y_train)\n",
    "    ErrorsTree[i,1] = 1 - tree.score(X_test,y_test)\n",
    "    y_train_pred = tree.predict(X_train)\n",
    "    y_test_pred = tree.predict(X_test)\n",
    "    AccuracyTree[i,0] = accuracy_score(y_train, y_train_pred)\n",
    "    AccuracyTree[i,1] = accuracy_score(y_test, y_test_pred)\n",
    "    \n",
    "    ada = ada.fit(X_train, y_train)\n",
    "    \n",
    "    #Error and Accuracy for AdaBoost Classifier\n",
    "    ErrorsAda[i,0] = 1 - ada.score(X_train,y_train)\n",
    "    ErrorsAda[i,1] = 1 - ada.score(X_test,y_test)\n",
    "    y_train_pred = ada.predict(X_train)\n",
    "    y_test_pred = ada.predict(X_test)\n",
    "    AccuracyAda[i,0] = accuracy_score(y_train, y_train_pred)\n",
    "    AccuracyAda[i,1] = accuracy_score(y_test, y_test_pred)"
   ]
  },
  {
   "cell_type": "code",
   "execution_count": 43,
   "metadata": {},
   "outputs": [],
   "source": [
    "#Build tables for Decision Tree and AdaBoost Classifier results\n",
    "\n",
    "tableTree = Table([Depth, ErrorsTree[:,0], ErrorsTree[:,1], AccuracyTree[:,0],AccuracyTree[:,1]], \n",
    "              names =('Depth','Error Training','Error Test', 'Accuracy Training','Accuracy Test'))\n",
    "\n",
    "tableAda  = Table([Depth, ErrorsAda[:,0], ErrorsAda[:,1], AccuracyAda[:,0],AccuracyAda[:,1]], \n",
    "              names =('Depth','Error Training','Error Test', 'Accuracy Training','Accuracy Test'))\n"
   ]
  },
  {
   "cell_type": "markdown",
   "metadata": {},
   "source": [
    "## Table of Decision Tree results"
   ]
  },
  {
   "cell_type": "code",
   "execution_count": 44,
   "metadata": {},
   "outputs": [
    {
     "data": {
      "text/html": [
       "&lt;Table length=7&gt;\n",
       "<table id=\"table2219593037528\" class=\"table-striped table-bordered table-condensed\">\n",
       "<thead><tr><th>Depth</th><th>Error Training</th><th>Error Test</th><th>Accuracy Training</th><th>Accuracy Test</th></tr></thead>\n",
       "<thead><tr><th>float64</th><th>float64</th><th>float64</th><th>float64</th><th>float64</th></tr></thead>\n",
       "<tr><td>1.0</td><td>0.304761904762</td><td>0.4</td><td>0.695238095238</td><td>0.6</td></tr>\n",
       "<tr><td>2.0</td><td>0.0380952380952</td><td>0.0888888888889</td><td>0.961904761905</td><td>0.911111111111</td></tr>\n",
       "<tr><td>3.0</td><td>0.0190476190476</td><td>0.0222222222222</td><td>0.980952380952</td><td>0.977777777778</td></tr>\n",
       "<tr><td>4.0</td><td>0.0</td><td>0.0222222222222</td><td>1.0</td><td>0.977777777778</td></tr>\n",
       "<tr><td>5.0</td><td>0.0</td><td>0.0222222222222</td><td>1.0</td><td>0.977777777778</td></tr>\n",
       "<tr><td>6.0</td><td>0.0</td><td>0.0222222222222</td><td>1.0</td><td>0.977777777778</td></tr>\n",
       "<tr><td>7.0</td><td>0.0</td><td>0.0222222222222</td><td>1.0</td><td>0.977777777778</td></tr>\n",
       "</table>"
      ],
      "text/plain": [
       "<Table length=7>\n",
       " Depth   Error Training    Error Test   Accuracy Training Accuracy Test \n",
       "float64     float64         float64          float64         float64    \n",
       "------- --------------- --------------- ----------------- --------------\n",
       "    1.0  0.304761904762             0.4    0.695238095238            0.6\n",
       "    2.0 0.0380952380952 0.0888888888889    0.961904761905 0.911111111111\n",
       "    3.0 0.0190476190476 0.0222222222222    0.980952380952 0.977777777778\n",
       "    4.0             0.0 0.0222222222222               1.0 0.977777777778\n",
       "    5.0             0.0 0.0222222222222               1.0 0.977777777778\n",
       "    6.0             0.0 0.0222222222222               1.0 0.977777777778\n",
       "    7.0             0.0 0.0222222222222               1.0 0.977777777778"
      ]
     },
     "execution_count": 44,
     "metadata": {},
     "output_type": "execute_result"
    }
   ],
   "source": [
    "tableTree"
   ]
  },
  {
   "cell_type": "markdown",
   "metadata": {},
   "source": [
    "## Table of AdaBoost Classifier results"
   ]
  },
  {
   "cell_type": "code",
   "execution_count": 45,
   "metadata": {},
   "outputs": [
    {
     "data": {
      "text/html": [
       "&lt;Table length=7&gt;\n",
       "<table id=\"table2219593037080\" class=\"table-striped table-bordered table-condensed\">\n",
       "<thead><tr><th>Depth</th><th>Error Training</th><th>Error Test</th><th>Accuracy Training</th><th>Accuracy Test</th></tr></thead>\n",
       "<thead><tr><th>float64</th><th>float64</th><th>float64</th><th>float64</th><th>float64</th></tr></thead>\n",
       "<tr><td>1.0</td><td>0.0380952380952</td><td>0.111111111111</td><td>0.961904761905</td><td>0.888888888889</td></tr>\n",
       "<tr><td>2.0</td><td>0.0</td><td>0.0222222222222</td><td>1.0</td><td>0.977777777778</td></tr>\n",
       "<tr><td>3.0</td><td>0.0</td><td>0.0222222222222</td><td>1.0</td><td>0.977777777778</td></tr>\n",
       "<tr><td>4.0</td><td>0.0</td><td>0.0222222222222</td><td>1.0</td><td>0.977777777778</td></tr>\n",
       "<tr><td>5.0</td><td>0.0</td><td>0.0222222222222</td><td>1.0</td><td>0.977777777778</td></tr>\n",
       "<tr><td>6.0</td><td>0.0</td><td>0.0222222222222</td><td>1.0</td><td>0.977777777778</td></tr>\n",
       "<tr><td>7.0</td><td>0.0</td><td>0.0222222222222</td><td>1.0</td><td>0.977777777778</td></tr>\n",
       "</table>"
      ],
      "text/plain": [
       "<Table length=7>\n",
       " Depth   Error Training    Error Test   Accuracy Training Accuracy Test \n",
       "float64     float64         float64          float64         float64    \n",
       "------- --------------- --------------- ----------------- --------------\n",
       "    1.0 0.0380952380952  0.111111111111    0.961904761905 0.888888888889\n",
       "    2.0             0.0 0.0222222222222               1.0 0.977777777778\n",
       "    3.0             0.0 0.0222222222222               1.0 0.977777777778\n",
       "    4.0             0.0 0.0222222222222               1.0 0.977777777778\n",
       "    5.0             0.0 0.0222222222222               1.0 0.977777777778\n",
       "    6.0             0.0 0.0222222222222               1.0 0.977777777778\n",
       "    7.0             0.0 0.0222222222222               1.0 0.977777777778"
      ]
     },
     "execution_count": 45,
     "metadata": {},
     "output_type": "execute_result"
    }
   ],
   "source": [
    "tableAda"
   ]
  },
  {
   "cell_type": "code",
   "execution_count": 46,
   "metadata": {},
   "outputs": [
    {
     "data": {
      "image/png": "[encoded data removed]",
      "text/plain": [
       "<matplotlib.figure.Figure at 0x204ca118278>"
      ]
     },
     "metadata": {},
     "output_type": "display_data"
    }
   ],
   "source": [
    "plt.close('all')\n",
    "fig, ax = plt.subplots(nrows=1, ncols=2, figsize = (16,4))\n",
    "for i,error, til in zip([0,1],[ErrorsTree,ErrorsAda],['Decision Tree Errors','AdaBoost Classifier Errors']):\n",
    "    ax[i].set_xlabel('Maximum Tree Depth')\n",
    "    ax[i].set_ylabel('Error')\n",
    "    ax[i].set_title(til, fontsize =22)\n",
    "    ax[i].xaxis.set_major_locator(MaxNLocator(integer=True))\n",
    "    ax[i].plot(np.arange(1,MaxDepth+1),error[:,0], label='train', color='#12CC94')\n",
    "    ax[i].plot(np.arange(1,MaxDepth+1),error[:,1], label='test', color='#6088BB')\n",
    "    ax[i].legend(loc='upper right', fontsize='medium')\n",
    "plt.show() "
   ]
  },
  {
   "cell_type": "code",
   "execution_count": 47,
   "metadata": {},
   "outputs": [
    {
     "data": {
      "image/png": "[encoded data removed]",
      "text/plain": [
       "<matplotlib.figure.Figure at 0x204ca09a6d8>"
      ]
     },
     "metadata": {},
     "output_type": "display_data"
    }
   ],
   "source": [
    "plt.close('all')\n",
    "fig, ax = plt.subplots(nrows=1, ncols=2, figsize = (16,4))\n",
    "for i,accu, til in zip([0,1],[AccuracyTree,AccuracyAda],['Decision Tree Accuracy','AdaBoost Classifier Accuracy']):\n",
    "    ax[i].set_xlabel('Maximum Tree Depth')\n",
    "    ax[i].set_ylabel('Accuracy')\n",
    "    ax[i].set_title(til, fontsize =22)\n",
    "    ax[i].xaxis.set_major_locator(MaxNLocator(integer=True))\n",
    "    ax[i].plot(np.arange(1,MaxDepth+1),accu[:,0], label='train', color='#CD3131')\n",
    "    ax[i].plot(np.arange(1,MaxDepth+1),accu[:,1], label='test', color='#8FECC8')\n",
    "    ax[i].legend(loc='lower right', fontsize='medium')\n",
    "plt.show() "
   ]
  }
 ],
 "metadata": {
  "kernelspec": {
   "display_name": "Python 3",
   "language": "python",
   "name": "python3"
  },
  "language_info": {
   "codemirror_mode": {
    "name": "ipython",
    "version": 3
   },
   "file_extension": ".py",
   "mimetype": "text/x-python",
   "name": "python",
   "nbconvert_exporter": "python",
   "pygments_lexer": "ipython3",
   "version": "3.5.4"
  }
 },
 "nbformat": 4,
 "nbformat_minor": 2
}
